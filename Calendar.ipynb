{
 "cells": [
  {
   "cell_type": "code",
   "execution_count": 1,
   "id": "195e0f3a-7370-494e-bf12-f0d5a10a1b56",
   "metadata": {},
   "outputs": [],
   "source": [
    "import PyQt5\n",
    "from PyQt5.QtWidgets import *\n",
    "from PyQt5 import QtCore, QtGui\n",
    "from PyQt5.QtGui import *\n",
    "from PyQt5.QtCore import *\n",
    "import sys"
   ]
  },
  {
   "cell_type": "code",
   "execution_count": 2,
   "id": "0ca39139-bb23-45fd-82b1-591309e9d87e",
   "metadata": {},
   "outputs": [],
   "source": [
    "class Window(QMainWindow):\n",
    "    def __init__(self):\n",
    "        super().__init__()\n",
    "        self.setWindowTitle('Calendar')\n",
    "        self.setGeometry(150,150,600,400)\n",
    "        self.UiComponents()\n",
    "        self.show()\n",
    "        \n",
    "        \n",
    "    def UiComponents(self):\n",
    "        calendar = QCalendarWidget(self)\n",
    "        calendar.setGeometry(10, 10, 400, 250)\n",
    "        push = QPushButton(\"Next Year\", self)\n",
    "        push.setGeometry(120, 280,100, 40)\n",
    "        push.clicked.connect(lambda: do_action())\n",
    "        \n",
    "    def do_action():\n",
    "        calendar.showNextYear()"
   ]
  },
  {
   "cell_type": "code",
   "execution_count": 3,
   "id": "cfe758b2-d368-4684-9cbc-68761eb9b039",
   "metadata": {},
   "outputs": [
    {
     "ename": "SystemExit",
     "evalue": "0",
     "output_type": "error",
     "traceback": [
      "An exception has occurred, use %tb to see the full traceback.\n",
      "\u001b[0;31mSystemExit\u001b[0m\u001b[0;31m:\u001b[0m 0\n"
     ]
    },
    {
     "name": "stderr",
     "output_type": "stream",
     "text": [
      "/usr/lib/python3/dist-packages/IPython/core/interactiveshell.py:3435: UserWarning: To exit: use 'exit', 'quit', or Ctrl-D.\n",
      "  warn(\"To exit: use 'exit', 'quit', or Ctrl-D.\", stacklevel=1)\n"
     ]
    }
   ],
   "source": [
    "App = QApplication(sys.argv)\n",
    "\n",
    "window = Window()\n",
    "\n",
    "sys.exit(App.exec())"
   ]
  }
 ],
 "metadata": {
  "kernelspec": {
   "display_name": "Python 3",
   "language": "python",
   "name": "python3"
  },
  "language_info": {
   "codemirror_mode": {
    "name": "ipython",
    "version": 3
   },
   "file_extension": ".py",
   "mimetype": "text/x-python",
   "name": "python",
   "nbconvert_exporter": "python",
   "pygments_lexer": "ipython3",
   "version": "3.9.5"
  }
 },
 "nbformat": 4,
 "nbformat_minor": 5
}
